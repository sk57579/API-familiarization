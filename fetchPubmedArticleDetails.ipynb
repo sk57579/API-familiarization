{
 "cells": [
  {
   "cell_type": "code",
   "execution_count": 1,
   "id": "c5bebe04-c6fa-440c-a39b-19cc9d0e002f",
   "metadata": {},
   "outputs": [
    {
     "name": "stdin",
     "output_type": "stream",
     "text": [
      "What PubMed ID would you like to look up?  34265844\n"
     ]
    },
    {
     "name": "stdout",
     "output_type": "stream",
     "text": [
      "Title: Highly accurate protein structure prediction with AlphaFold.\n",
      "\n",
      "Abstract: Proteins are essential to life, and understanding their structure can facilitate a mechanistic understanding of their function. Through an enormous experimental effort<sup>1-4</sup>, the structures of around 100,000 unique proteins have been determined<sup>5</sup>, but this represents a small fraction of the billions of known protein sequences<sup>6,7</sup>. Structural coverage is bottlenecked by the months to years of painstaking effort required to determine a single protein structure. Accurate computational approaches are needed to address this gap and to enable large-scale structural bioinformatics. Predicting the three-dimensional structure that a protein will adopt based solely on its amino acid sequence-the structure prediction component of the 'protein folding problem'<sup>8</sup>-has been an important open research problem for more than 50 years<sup>9</sup>. Despite recent progress<sup>10-14</sup>, existing methods fall far short of atomic accuracy, especially when no homologous structure is available. Here we provide the first computational method that can regularly predict protein structures with atomic accuracy even in cases in which no similar structure is known. We validated an entirely redesigned version of our neural network-based model, AlphaFold, in the challenging 14th Critical Assessment of protein Structure Prediction (CASP14)<sup>15</sup>, demonstrating accuracy competitive with experimental structures in a majority of cases and greatly outperforming other methods. Underpinning the latest version of AlphaFold is a novel machine learning approach that incorporates physical and biological knowledge about protein structure, leveraging multi-sequence alignments, into the design of the deep learning algorithm.\n",
      "\n"
     ]
    }
   ],
   "source": [
    "from Bio import Entrez\n",
    "\n",
    "# Set the email as required from reading documenttion\n",
    "Entrez.email = \"enteryouremail@gmail.com\"\n",
    "\n",
    "def fetch_pubmed_article_details():\n",
    "    while True:  # Infinite loop to keep prompting for a valid PubMed ID\n",
    "        try:\n",
    "            # Prompt for PubMed ID input\n",
    "            pubmed_id = input(\"What PubMed ID would you like to look up? \")\n",
    "\n",
    "            # Fetch the paper details from PubMed using Entrez efetch function\n",
    "            handle = Entrez.efetch(db=\"pubmed\", id=pubmed_id, retmode=\"xml\")\n",
    "            records = Entrez.read(handle)\n",
    "            handle.close()\n",
    "\n",
    "            # Extract the title and abstract\n",
    "            article_title = records[\"PubmedArticle\"][0][\"MedlineCitation\"][\"Article\"][\"ArticleTitle\"]\n",
    "            article_abstract = records[\"PubmedArticle\"][0][\"MedlineCitation\"][\"Article\"][\"Abstract\"][\"AbstractText\"][0]\n",
    "\n",
    "            # Print the title and abstract\n",
    "            print(f\"Title: {article_title}\\n\")\n",
    "            print(f\"Abstract: {article_abstract}\\n\")\n",
    "            break  # Exit the loop once the information is successfully retrieved\n",
    "\n",
    "        except Exception as e:\n",
    "            print(\"An error has occurred. Please try again.\\n\") #if number is invalid or other problem arises, \n",
    "            #then the program will send an error message and restart the loop\n",
    "\n",
    "# Start the program\n",
    "fetch_pubmed_article_details()\n"
   ]
  },
  {
   "cell_type": "code",
   "execution_count": null,
   "id": "cf4d3cb6-1a32-4c9e-855c-580924a3031b",
   "metadata": {},
   "outputs": [],
   "source": []
  }
 ],
 "metadata": {
  "kernelspec": {
   "display_name": "Python 3 (ipykernel)",
   "language": "python",
   "name": "python3"
  },
  "language_info": {
   "codemirror_mode": {
    "name": "ipython",
    "version": 3
   },
   "file_extension": ".py",
   "mimetype": "text/x-python",
   "name": "python",
   "nbconvert_exporter": "python",
   "pygments_lexer": "ipython3",
   "version": "3.12.4"
  }
 },
 "nbformat": 4,
 "nbformat_minor": 5
}
